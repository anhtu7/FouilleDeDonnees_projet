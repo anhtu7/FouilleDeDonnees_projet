{
 "cells": [
  {
   "cell_type": "code",
   "execution_count": 10,
   "metadata": {},
   "outputs": [],
   "source": [
    "import pandas as pd\n",
    "import numpy as np\n",
    "import seaborn as sns"
   ]
  },
  {
   "cell_type": "code",
   "execution_count": 11,
   "metadata": {},
   "outputs": [
    {
     "data": {
      "text/html": [
       "<div>\n",
       "<style scoped>\n",
       "    .dataframe tbody tr th:only-of-type {\n",
       "        vertical-align: middle;\n",
       "    }\n",
       "\n",
       "    .dataframe tbody tr th {\n",
       "        vertical-align: top;\n",
       "    }\n",
       "\n",
       "    .dataframe thead th {\n",
       "        text-align: right;\n",
       "    }\n",
       "</style>\n",
       "<table border=\"1\" class=\"dataframe\">\n",
       "  <thead>\n",
       "    <tr style=\"text-align: right;\">\n",
       "      <th></th>\n",
       "      <th>Timestamp</th>\n",
       "      <th>FD_Avg</th>\n",
       "      <th>FG_Avg</th>\n",
       "      <th>Patm_Avg</th>\n",
       "      <th>RH_Avg</th>\n",
       "      <th>Text_Avg</th>\n",
       "      <th>WD_MeanUnitVector</th>\n",
       "      <th>WS_Mean</th>\n",
       "    </tr>\n",
       "  </thead>\n",
       "  <tbody>\n",
       "    <tr>\n",
       "      <th>0</th>\n",
       "      <td>2014-01-01 00:00:00</td>\n",
       "      <td>3.871</td>\n",
       "      <td>3.643</td>\n",
       "      <td>1002.8</td>\n",
       "      <td>73.16666</td>\n",
       "      <td>25.5</td>\n",
       "      <td>37.50000</td>\n",
       "      <td>1.983333</td>\n",
       "    </tr>\n",
       "    <tr>\n",
       "      <th>1</th>\n",
       "      <td>2014-01-01 00:01:00</td>\n",
       "      <td>3.871</td>\n",
       "      <td>3.814</td>\n",
       "      <td>1002.8</td>\n",
       "      <td>73.11666</td>\n",
       "      <td>25.5</td>\n",
       "      <td>29.49695</td>\n",
       "      <td>2.283333</td>\n",
       "    </tr>\n",
       "    <tr>\n",
       "      <th>2</th>\n",
       "      <td>2014-01-01 00:02:00</td>\n",
       "      <td>1.366</td>\n",
       "      <td>8.710</td>\n",
       "      <td>1002.8</td>\n",
       "      <td>72.83334</td>\n",
       "      <td>25.5</td>\n",
       "      <td>26.65659</td>\n",
       "      <td>2.783333</td>\n",
       "    </tr>\n",
       "    <tr>\n",
       "      <th>3</th>\n",
       "      <td>2014-01-01 00:03:00</td>\n",
       "      <td>3.871</td>\n",
       "      <td>6.318</td>\n",
       "      <td>1002.8</td>\n",
       "      <td>72.43333</td>\n",
       "      <td>25.5</td>\n",
       "      <td>24.82494</td>\n",
       "      <td>3.133333</td>\n",
       "    </tr>\n",
       "    <tr>\n",
       "      <th>4</th>\n",
       "      <td>2014-01-01 00:04:00</td>\n",
       "      <td>3.871</td>\n",
       "      <td>3.814</td>\n",
       "      <td>1002.8</td>\n",
       "      <td>72.33334</td>\n",
       "      <td>25.5</td>\n",
       "      <td>20.83340</td>\n",
       "      <td>3.316667</td>\n",
       "    </tr>\n",
       "  </tbody>\n",
       "</table>\n",
       "</div>"
      ],
      "text/plain": [
       "             Timestamp  FD_Avg  FG_Avg  Patm_Avg    RH_Avg  Text_Avg  \\\n",
       "0  2014-01-01 00:00:00   3.871   3.643    1002.8  73.16666      25.5   \n",
       "1  2014-01-01 00:01:00   3.871   3.814    1002.8  73.11666      25.5   \n",
       "2  2014-01-01 00:02:00   1.366   8.710    1002.8  72.83334      25.5   \n",
       "3  2014-01-01 00:03:00   3.871   6.318    1002.8  72.43333      25.5   \n",
       "4  2014-01-01 00:04:00   3.871   3.814    1002.8  72.33334      25.5   \n",
       "\n",
       "   WD_MeanUnitVector   WS_Mean  \n",
       "0           37.50000  1.983333  \n",
       "1           29.49695  2.283333  \n",
       "2           26.65659  2.783333  \n",
       "3           24.82494  3.133333  \n",
       "4           20.83340  3.316667  "
      ]
     },
     "execution_count": 11,
     "metadata": {},
     "output_type": "execute_result"
    }
   ],
   "source": [
    "df_Moufia = pd.read_csv(\"Moufia_2014_2015/moufia_2014_2015.csv\")\n",
    "df_Possession = pd.read_csv(\"Possession_2014_2015/possession_2014_2015.csv\")\n",
    "df_SaintAndre = pd.read_csv(\"SaintAndre_2014_205/saintandre_2014_2015.csv\")\n",
    "df_SaintLeu = pd.read_csv(\"SaintLeu_2014_2015/saintleu_2014_2015.csv\")\n",
    "df_SaintPierre = pd.read_csv(\"SaintPierre_2014_2015/saintpierre_2014_2015.csv\")\n",
    "\n",
    "df_Moufia.head()\n",
    "df_Possession.head()\n",
    "df_SaintAndre.head()\n",
    "df_SaintLeu.head()\n",
    "df_SaintPierre.head()\n"
   ]
  },
  {
   "cell_type": "code",
   "execution_count": 12,
   "metadata": {},
   "outputs": [
    {
     "data": {
      "text/plain": [
       "<AxesSubplot:>"
      ]
     },
     "execution_count": 12,
     "metadata": {},
     "output_type": "execute_result"
    },
    {
     "name": "stderr",
     "output_type": "stream",
     "text": [
      "D:\\Projets\\MachineLearning\\venv\\lib\\site-packages\\IPython\\core\\pylabtools.py:132: UserWarning: Creating legend with loc=\"best\" can be slow with large amounts of data.\n",
      "  fig.canvas.print_figure(bytes_io, **kw)\n"
     ]
    },
    {
     "data": {
      "image/png": "[encoded data removed]",
      "text/plain": [
       "<Figure size 432x288 with 1 Axes>"
      ]
     },
     "metadata": {},
     "output_type": "display_data"
    }
   ],
   "source": [
    "sns.set_theme(style=\"whitegrid\")\n",
    "sns.lineplot(data=df_Moufia, palette=\"tab10\", linewidth=2.5)"
   ]
  },
  {
   "cell_type": "code",
   "execution_count": null,
   "metadata": {},
   "outputs": [],
   "source": []
  }
 ],
 "metadata": {
  "kernelspec": {
   "display_name": "venv",
   "language": "python",
   "name": "venv"
  },
  "language_info": {
   "codemirror_mode": {
    "name": "ipython",
    "version": 3
   },
   "file_extension": ".py",
   "mimetype": "text/x-python",
   "name": "python",
   "nbconvert_exporter": "python",
   "pygments_lexer": "ipython3",
   "version": "3.8.3"
  }
 },
 "nbformat": 4,
 "nbformat_minor": 4
}
