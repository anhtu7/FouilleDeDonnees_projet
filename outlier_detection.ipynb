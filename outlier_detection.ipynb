{
 "cells": [
  {
   "cell_type": "code",
   "execution_count": 1,
   "metadata": {},
   "outputs": [],
   "source": [
    "import pandas as pd\n",
    "import numpy as np\n",
    "import matplotlib.pyplot as plt\n",
    "import seaborn as sns\n",
    "import matplotlib\n",
    "from sklearn.ensemble import IsolationForest\n",
    "from numpy import percentile\n",
    "\n",
    "from sklearn.ensemble import IsolationForest\n",
    "from sklearn.preprocessing import StandardScaler\n",
    "\n",
    "\n",
    "\n",
    "from pyod.models.abod import ABOD\n",
    "from pyod.models.cblof import CBLOF\n",
    "from pyod.models.feature_bagging import FeatureBagging\n",
    "from pyod.models.hbos import HBOS\n",
    "from pyod.models.iforest import IForest\n",
    "from pyod.models.knn import KNN\n",
    "from pyod.models.lof import LOF\n",
    "from scipy import stats\n",
    "from sklearn.preprocessing import MinMaxScaler, normalize\n",
    "from sklearn.cluster import DBSCAN, OPTICS"
   ]
  },
  {
   "cell_type": "code",
   "execution_count": 2,
   "metadata": {},
   "outputs": [],
   "source": [
    "df_Moufia = pd.read_csv(\"Moufia_2014_2015/moufia_2014_2015.csv\")\n",
    "df_Possession = pd.read_csv(\"Possession_2014_2015/possession_2014_2015.csv\")\n",
    "df_SaintAndre = pd.read_csv(\"SaintAndre_2014_205/saintandre_2014_2015.csv\")\n",
    "df_SaintLeu = pd.read_csv(\"SaintLeu_2014_2015/saintleu_2014_2015.csv\")\n",
    "df_SaintPierre = pd.read_csv(\"SaintPierre_2014_2015/saintpierre_2014_2015.csv\")"
   ]
  },
  {
   "cell_type": "code",
   "execution_count": 3,
   "metadata": {},
   "outputs": [
    {
     "data": {
      "image/png": "[encoded data removed]",
      "text/plain": [
       "<Figure size 360x360 with 1 Axes>"
      ]
     },
     "metadata": {
      "needs_background": "light"
     },
     "output_type": "display_data"
    }
   ],
   "source": [
    "sns.displot(df_Moufia['FD_Avg'])\n",
    "plt.title(\"FD_Avg\")\n",
    "sns.despine()"
   ]
  },
  {
   "cell_type": "code",
   "execution_count": 16,
   "metadata": {},
   "outputs": [
    {
     "name": "stdout",
     "output_type": "stream",
     "text": [
      "Skewness: 3.630061\n",
      "Kurtosis: 17.868220\n"
     ]
    }
   ],
   "source": [
    "print(\"Skewness: %f\" % df_Moufia['FD_Avg'].skew())\n",
    "print(\"Kurtosis: %f\" % df_Moufia['FD_Avg'].kurt())\n",
    "#The distribution has positive long thin tail, the mass of the distribution is concentrated on the left of the figure. And the tail FD_Avg distribution far exceeds the tails of the normal distribution."
   ]
  },
  {
   "cell_type": "code",
   "execution_count": 17,
   "metadata": {},
   "outputs": [
    {
     "data": {
      "image/png": "[encoded data removed]",
      "text/plain": [
       "<Figure size 720x288 with 1 Axes>"
      ]
     },
     "metadata": {
      "needs_background": "light"
     },
     "output_type": "display_data"
    }
   ],
   "source": [
    "isolation_forest = IsolationForest(n_estimators=100)\n",
    "isolation_forest.fit(df_Moufia['FD_Avg'].values.reshape(-1, 1))\n",
    "xx = np.linspace(df_Moufia['FD_Avg'].min(), df_Moufia['FD_Avg'].max(), len(df_Moufia)).reshape(-1,1)\n",
    "anomaly_score = isolation_forest.decision_function(xx)\n",
    "outlier = isolation_forest.predict(xx)\n",
    "plt.figure(figsize=(10,4))\n",
    "plt.plot(xx, anomaly_score, label='anomaly score')\n",
    "plt.fill_between(xx.T[0], np.min(anomaly_score), np.max(anomaly_score), \n",
    "                 where=outlier==-1, color='r', \n",
    "                 alpha=.4, label='outlier region')\n",
    "plt.legend()\n",
    "plt.ylabel('anomaly score')\n",
    "plt.xlabel('FD_Avg')\n",
    "plt.show();"
   ]
  },
  {
   "cell_type": "code",
   "execution_count": 18,
   "metadata": {},
   "outputs": [
    {
     "data": {
      "text/html": [
       "<div>\n",
       "<style scoped>\n",
       "    .dataframe tbody tr th:only-of-type {\n",
       "        vertical-align: middle;\n",
       "    }\n",
       "\n",
       "    .dataframe tbody tr th {\n",
       "        vertical-align: top;\n",
       "    }\n",
       "\n",
       "    .dataframe thead th {\n",
       "        text-align: right;\n",
       "    }\n",
       "</style>\n",
       "<table border=\"1\" class=\"dataframe\">\n",
       "  <thead>\n",
       "    <tr style=\"text-align: right;\">\n",
       "      <th></th>\n",
       "      <th>Timestamp</th>\n",
       "      <th>FD_Avg</th>\n",
       "      <th>FG_Avg</th>\n",
       "      <th>Patm_Avg</th>\n",
       "      <th>RH_Avg</th>\n",
       "      <th>Text_Avg</th>\n",
       "      <th>WD_MeanUnitVector</th>\n",
       "      <th>WS_Mean</th>\n",
       "    </tr>\n",
       "  </thead>\n",
       "  <tbody>\n",
       "    <tr>\n",
       "      <th>566</th>\n",
       "      <td>2014-01-01 09:26:00</td>\n",
       "      <td>208.9</td>\n",
       "      <td>211.7</td>\n",
       "      <td>973.5000</td>\n",
       "      <td>76.66666</td>\n",
       "      <td>23.53333</td>\n",
       "      <td>140.98970</td>\n",
       "      <td>5.200000</td>\n",
       "    </tr>\n",
       "    <tr>\n",
       "      <th>567</th>\n",
       "      <td>2014-01-01 09:27:00</td>\n",
       "      <td>216.4</td>\n",
       "      <td>213.0</td>\n",
       "      <td>973.5000</td>\n",
       "      <td>76.90000</td>\n",
       "      <td>23.68333</td>\n",
       "      <td>145.80940</td>\n",
       "      <td>4.166667</td>\n",
       "    </tr>\n",
       "    <tr>\n",
       "      <th>568</th>\n",
       "      <td>2014-01-01 09:28:00</td>\n",
       "      <td>215.5</td>\n",
       "      <td>215.7</td>\n",
       "      <td>973.4666</td>\n",
       "      <td>75.30000</td>\n",
       "      <td>23.83333</td>\n",
       "      <td>149.11640</td>\n",
       "      <td>5.700000</td>\n",
       "    </tr>\n",
       "    <tr>\n",
       "      <th>569</th>\n",
       "      <td>2014-01-01 09:29:00</td>\n",
       "      <td>216.8</td>\n",
       "      <td>214.8</td>\n",
       "      <td>973.4500</td>\n",
       "      <td>75.23333</td>\n",
       "      <td>23.96667</td>\n",
       "      <td>141.34310</td>\n",
       "      <td>4.066667</td>\n",
       "    </tr>\n",
       "    <tr>\n",
       "      <th>570</th>\n",
       "      <td>2014-01-01 09:30:00</td>\n",
       "      <td>210.7</td>\n",
       "      <td>213.4</td>\n",
       "      <td>973.4000</td>\n",
       "      <td>74.53333</td>\n",
       "      <td>24.05000</td>\n",
       "      <td>135.95830</td>\n",
       "      <td>4.850000</td>\n",
       "    </tr>\n",
       "    <tr>\n",
       "      <th>...</th>\n",
       "      <td>...</td>\n",
       "      <td>...</td>\n",
       "      <td>...</td>\n",
       "      <td>...</td>\n",
       "      <td>...</td>\n",
       "      <td>...</td>\n",
       "      <td>...</td>\n",
       "      <td>...</td>\n",
       "    </tr>\n",
       "    <tr>\n",
       "      <th>1022841</th>\n",
       "      <td>2015-12-30 11:41:00</td>\n",
       "      <td>219.0</td>\n",
       "      <td>219.1</td>\n",
       "      <td>974.8499</td>\n",
       "      <td>71.65000</td>\n",
       "      <td>25.30000</td>\n",
       "      <td>91.00024</td>\n",
       "      <td>6.900000</td>\n",
       "    </tr>\n",
       "    <tr>\n",
       "      <th>1022842</th>\n",
       "      <td>2015-12-30 11:42:00</td>\n",
       "      <td>214.5</td>\n",
       "      <td>211.9</td>\n",
       "      <td>974.8833</td>\n",
       "      <td>72.05000</td>\n",
       "      <td>25.30000</td>\n",
       "      <td>104.66100</td>\n",
       "      <td>4.216667</td>\n",
       "    </tr>\n",
       "    <tr>\n",
       "      <th>1022843</th>\n",
       "      <td>2015-12-30 11:43:00</td>\n",
       "      <td>206.2</td>\n",
       "      <td>206.9</td>\n",
       "      <td>974.9000</td>\n",
       "      <td>71.93333</td>\n",
       "      <td>25.30000</td>\n",
       "      <td>103.81610</td>\n",
       "      <td>4.233334</td>\n",
       "    </tr>\n",
       "    <tr>\n",
       "      <th>1022856</th>\n",
       "      <td>2015-12-30 11:56:00</td>\n",
       "      <td>206.5</td>\n",
       "      <td>203.4</td>\n",
       "      <td>974.9000</td>\n",
       "      <td>73.40000</td>\n",
       "      <td>25.20000</td>\n",
       "      <td>101.86690</td>\n",
       "      <td>5.383333</td>\n",
       "    </tr>\n",
       "    <tr>\n",
       "      <th>1022857</th>\n",
       "      <td>2015-12-30 11:57:00</td>\n",
       "      <td>200.3</td>\n",
       "      <td>201.0</td>\n",
       "      <td>974.9000</td>\n",
       "      <td>72.53333</td>\n",
       "      <td>25.20000</td>\n",
       "      <td>100.51940</td>\n",
       "      <td>4.650000</td>\n",
       "    </tr>\n",
       "  </tbody>\n",
       "</table>\n",
       "<p>180822 rows × 8 columns</p>\n",
       "</div>"
      ],
      "text/plain": [
       "                   Timestamp  FD_Avg  FG_Avg  Patm_Avg    RH_Avg  Text_Avg  \\\n",
       "566      2014-01-01 09:26:00   208.9   211.7  973.5000  76.66666  23.53333   \n",
       "567      2014-01-01 09:27:00   216.4   213.0  973.5000  76.90000  23.68333   \n",
       "568      2014-01-01 09:28:00   215.5   215.7  973.4666  75.30000  23.83333   \n",
       "569      2014-01-01 09:29:00   216.8   214.8  973.4500  75.23333  23.96667   \n",
       "570      2014-01-01 09:30:00   210.7   213.4  973.4000  74.53333  24.05000   \n",
       "...                      ...     ...     ...       ...       ...       ...   \n",
       "1022841  2015-12-30 11:41:00   219.0   219.1  974.8499  71.65000  25.30000   \n",
       "1022842  2015-12-30 11:42:00   214.5   211.9  974.8833  72.05000  25.30000   \n",
       "1022843  2015-12-30 11:43:00   206.2   206.9  974.9000  71.93333  25.30000   \n",
       "1022856  2015-12-30 11:56:00   206.5   203.4  974.9000  73.40000  25.20000   \n",
       "1022857  2015-12-30 11:57:00   200.3   201.0  974.9000  72.53333  25.20000   \n",
       "\n",
       "         WD_MeanUnitVector   WS_Mean  \n",
       "566              140.98970  5.200000  \n",
       "567              145.80940  4.166667  \n",
       "568              149.11640  5.700000  \n",
       "569              141.34310  4.066667  \n",
       "570              135.95830  4.850000  \n",
       "...                    ...       ...  \n",
       "1022841           91.00024  6.900000  \n",
       "1022842          104.66100  4.216667  \n",
       "1022843          103.81610  4.233334  \n",
       "1022856          101.86690  5.383333  \n",
       "1022857          100.51940  4.650000  \n",
       "\n",
       "[180822 rows x 8 columns]"
      ]
     },
     "execution_count": 18,
     "metadata": {},
     "output_type": "execute_result"
    }
   ],
   "source": [
    "df_Moufia.loc[(df_Moufia['FD_Avg'] >= 200)]"
   ]
  },
  {
   "cell_type": "code",
   "execution_count": 3,
   "metadata": {},
   "outputs": [],
   "source": [
    "x = normalize([df_Moufia['FD_Avg']])\n",
    "x= x.reshape(-1,1)\n",
    "df_Moufia['FD_Avg_Normalized'] = x"
   ]
  },
  {
   "cell_type": "code",
   "execution_count": null,
   "metadata": {},
   "outputs": [],
   "source": [
    "clustering1 = OPTICS(eps=0.09, min_samples=6,n_jobs=-1).fit(np.array(df_Moufia['FD_Avg_Normalized']).reshape(-1,1))\n",
    "labels = clustering1.labels_"
   ]
  },
  {
   "cell_type": "code",
   "execution_count": null,
   "metadata": {},
   "outputs": [],
   "source": [
    "outlier_pos = np.where(labels == -1)[0]\n",
    "\n",
    "x = []; y = [];\n",
    "for pos in outlier_pos:\n",
    "    x.append(np.array(df_Moufia['FD_Avg_Normalized'])[pos])\n",
    "    y.append(df_Moufia['FD_Avg_Normalized'].index[pos])\n",
    "    \n",
    "import pickle\n",
    "\n",
    "with open('x_dbscan', 'wb') as fp:\n",
    "    pickle.dump(x, fp)\n",
    "\n",
    "with open('y_dbscan', 'wb') as fp:\n",
    "    pickle.dump(y, fp)\n",
    "\n",
    "\"\"\"\n",
    "with open ('outfile', 'rb') as fp:\n",
    "    itemlist = pickle.load(fp)\n",
    "\"\"\"\n",
    "plt.plot(ts_dataframe['FD_Avg_Normalized'].loc[ts_dataframe['FD_Avg_Normalized'].index], 'k-')\n",
    "plt.plot(y,x,'r*', markersize=8)  \n",
    "plt.legend(['Actual', 'Anomaly Detected'])\n",
    "plt.xlabel('Time Period')\n",
    "plt.ylabel('Normalized Profit')"
   ]
  },
  {
   "cell_type": "code",
   "execution_count": null,
   "metadata": {},
   "outputs": [],
   "source": []
  }
 ],
 "metadata": {
  "kernelspec": {
   "display_name": "venv",
   "language": "python",
   "name": "venv"
  },
  "language_info": {
   "codemirror_mode": {
    "name": "ipython",
    "version": 3
   },
   "file_extension": ".py",
   "mimetype": "text/x-python",
   "name": "python",
   "nbconvert_exporter": "python",
   "pygments_lexer": "ipython3",
   "version": "3.8.3"
  }
 },
 "nbformat": 4,
 "nbformat_minor": 4
}
